{
 "cells": [
  {
   "cell_type": "code",
   "execution_count": null,
   "id": "2e367ac4-5e1c-4aba-9ce1-60113f4c7fbf",
   "metadata": {
    "tags": []
   },
   "outputs": [
    {
     "name": "stdout",
     "output_type": "stream",
     "text": [
      "https://127.0.0.1:8090/\n"
     ]
    }
   ],
   "source": [
    "import requests\n",
    "import json\n",
    "import os\n",
    "import cmlapi\n",
    "\n",
    "USER_QUESTION = \"What is CML?\"  # Update this with your own!\n",
    "TEMPERATURE = 0.1\n",
    "TOKEN_COUNT = 250\n",
    "\n",
    "client = cmlapi.default_client(url=os.getenv(\"CDSW_API_URL\").replace(\"/api/v1\", \"\"), cml_api_key=os.getenv(\"CDSW_APIV2_KEY\"))\n",
    "projects = client.list_projects(include_public_projects=True, search_filter=json.dumps({\"name\": \"Intelligent QA Chatbot with   NiFi, Pinecone, and Llama2\"}))\n",
    "project = projects.projects[0]\n",
    "\n",
    "## Here we assume that only one model has been deployed in the project, if this is not true this should be adjusted (this is reflected by the placeholder 0 in the array)\n",
    "model = client.list_models(project_id=project.id)\n",
    "selected_model = model.models[0]\n",
    "\n",
    "## Save the access key for the model to the environment variable of this project\n",
    "MODEL_ACCESS_KEY = selected_model.access_key\n",
    "\n",
    "MODEL_ENDPOINT = os.getenv(\"CDSW_API_URL\").replace(\"https://\", \"https://modelservice.\").replace(\"/api/v1\", \"/model?accessKey=\")\n",
    "MODEL_ENDPOINT = MODEL_ENDPOINT + MODEL_ACCESS_KEY\n",
    "\n",
    "llama_sys = f\"<s>[INST]You are a helpful, respectful and honest assistant. If you are unsure about an answer, truthfully say \\\"I don't know\\\".\"    \n",
    "question_and_context = f\"{llama_sys} \\n[INST] {USER_QUESTION} [/INST]\"\n",
    "    \n",
    "try:\n",
    "    # Build a request payload for CML hosted model\n",
    "    data={ \"request\": {\"prompt\":question_and_context,\"temperature\":TEMPERATURE,\"max_new_tokens\":TOKEN_COUNT,\"repetition_penalty\":1.0} }\n",
    "    \n",
    "    r = requests.post(MODEL_ENDPOINT, data=json.dumps(data), headers={'Content-Type': 'application/json'})\n",
    "    \n",
    "    # Logging\n",
    "    print(f\"Request: {data}\")\n",
    "    print(f\"Response: {r.json()}\")\n",
    "    \n",
    "    no_inst_response = str(r.json()['response']['prediction']['response'])[len(question_and_context)-6:]\n",
    "        \n",
    "    return no_inst_response\n",
    "    \n",
    "except Exception as e:\n",
    "    print(e)\n",
    "    return e\n",
    "\n",
    "# Check if the request was successful\n",
    "if response.status_code == 200:\n",
    "    print(f\"Success! Received response: {response.json()}\")\n",
    "else:\n",
    "    print(f\"Failed to make request. Status code: {response.status_code}, Response: {response.text}\")\n"
   ]
  }
 ],
 "metadata": {
  "kernelspec": {
   "display_name": "Python 3 (ipykernel)",
   "language": "python",
   "name": "python3"
  },
  "language_info": {
   "codemirror_mode": {
    "name": "ipython",
    "version": 3
   },
   "file_extension": ".py",
   "mimetype": "text/x-python",
   "name": "python",
   "nbconvert_exporter": "python",
   "pygments_lexer": "ipython3",
   "version": "3.9.16"
  }
 },
 "nbformat": 4,
 "nbformat_minor": 5
}
